{
 "cells": [
  {
   "cell_type": "code",
   "execution_count": 1,
   "id": "ad91226a",
   "metadata": {},
   "outputs": [
    {
     "name": "stdout",
     "output_type": "stream",
     "text": [
      "MAE: 165.37623222748812\n",
      "RMSE: 298.68966389629793\n",
      "R²: 0.9771950346588945\n"
     ]
    }
   ],
   "source": [
    "import pandas as pd\n",
    "from sklearn.model_selection import train_test_split\n",
    "from sklearn.preprocessing import StandardScaler, OneHotEncoder\n",
    "from sklearn.compose import ColumnTransformer\n",
    "from sklearn.pipeline import Pipeline\n",
    "\n",
    "# Load data\n",
    "df = pd.read_csv('traffic_volume_data.csv')\n",
    "\n",
    "# Convert date_time to datetime\n",
    "df['date_time'] = pd.to_datetime(df['date_time'])\n",
    "\n",
    "# Extract additional time features\n",
    "df['hour'] = df['date_time'].dt.hour\n",
    "df['month_day'] = df['date_time'].dt.day\n",
    "df['weekday'] = df['date_time'].dt.weekday\n",
    "df['month'] = df['date_time'].dt.month\n",
    "df['year'] = df['date_time'].dt.year\n",
    "\n",
    "# Define features and target\n",
    "features = ['is_holiday', 'air_pollution_index', 'humidity', 'wind_speed', 'wind_direction', 'visibility_in_miles', 'dew_point', 'temperature', 'rain_p_h', 'snow_p_h', 'clouds_all', 'weather_type', 'hour', 'month_day', 'weekday', 'month', 'year', 'last_1_hour_traffic', 'last_2_hour_traffic', 'last_3_hour_traffic', 'last_4_hour_traffic', 'last_5_hour_traffic', 'last_6_hour_traffic']\n",
    "target = 'traffic_volume'\n",
    "\n",
    "X = df[features]\n",
    "y = df[target]\n",
    "\n",
    "# Split data\n",
    "X_train, X_test, y_train, y_test = train_test_split(X, y, test_size=0.05, random_state=42)\n",
    "\n",
    "# Preprocessing pipelines\n",
    "numeric_features = ['air_pollution_index', 'humidity', 'wind_speed', 'wind_direction', 'visibility_in_miles', 'dew_point', 'temperature', 'rain_p_h', 'snow_p_h', 'clouds_all', 'last_1_hour_traffic', 'last_2_hour_traffic', 'last_3_hour_traffic', 'last_4_hour_traffic', 'last_5_hour_traffic', 'last_6_hour_traffic']\n",
    "categorical_features = ['is_holiday', 'weather_type', 'hour', 'month_day', 'weekday', 'month', 'year']\n",
    "\n",
    "numeric_transformer = Pipeline(steps=[\n",
    "    ('scaler', StandardScaler())\n",
    "])\n",
    "\n",
    "categorical_transformer = Pipeline(steps=[\n",
    "    ('onehot', OneHotEncoder(handle_unknown='ignore'))\n",
    "])\n",
    "\n",
    "preprocessor = ColumnTransformer(\n",
    "    transformers=[\n",
    "        ('num', numeric_transformer, numeric_features),\n",
    "        ('cat', categorical_transformer, categorical_features)\n",
    "    ])\n",
    "\n",
    "# Model pipeline\n",
    "from sklearn.ensemble import RandomForestRegressor\n",
    "\n",
    "model = Pipeline(steps=[('preprocessor', preprocessor),\n",
    "                        ('regressor', RandomForestRegressor(n_estimators=100, random_state=42))])\n",
    "\n",
    "# Train the model\n",
    "model.fit(X_train, y_train)\n",
    "from sklearn.metrics import mean_absolute_error, mean_squared_error, r2_score\n",
    "\n",
    "# Predict\n",
    "y_pred = model.predict(X_test)\n",
    "\n",
    "# Evaluation metrics\n",
    "mae = mean_absolute_error(y_test, y_pred)\n",
    "rmse = mean_squared_error(y_test, y_pred, squared=False)\n",
    "r2 = r2_score(y_test, y_pred)\n",
    "\n",
    "print(f\"MAE: {mae}\")\n",
    "print(f\"RMSE: {rmse}\")\n",
    "print(f\"R²: {r2}\")"
   ]
  }
 ],
 "metadata": {
  "kernelspec": {
   "display_name": "Python 3 (ipykernel)",
   "language": "python",
   "name": "python3"
  },
  "language_info": {
   "codemirror_mode": {
    "name": "ipython",
    "version": 3
   },
   "file_extension": ".py",
   "mimetype": "text/x-python",
   "name": "python",
   "nbconvert_exporter": "python",
   "pygments_lexer": "ipython3",
   "version": "3.9.13"
  }
 },
 "nbformat": 4,
 "nbformat_minor": 5
}
